{
 "cells": [
  {
   "cell_type": "code",
   "execution_count": 1,
   "id": "8011ff99",
   "metadata": {},
   "outputs": [],
   "source": [
    "#Importing the libraries\n",
    "\n",
    "import pandas as pd\n",
    "import seaborn as sns\n",
    "import matplotlib.pyplot as plt\n",
    "%matplotlib inline"
   ]
  },
  {
   "cell_type": "code",
   "execution_count": 2,
   "id": "dc3e1b51",
   "metadata": {},
   "outputs": [],
   "source": [
    "#Importing the Dataset\n",
    "\n",
    "df= pd.read_csv('C:\\\\Users\\\\HP\\\\Downloads\\\\archive (3)\\\\layoffs_data.csv')"
   ]
  },
  {
   "cell_type": "code",
   "execution_count": 3,
   "id": "17f66ec9",
   "metadata": {},
   "outputs": [],
   "source": [
    "#Making a copy of the dataset\n",
    "\n",
    "df2=df.copy()"
   ]
  },
  {
   "cell_type": "markdown",
   "id": "45e79daa",
   "metadata": {},
   "source": [
    "## Data Overview "
   ]
  },
  {
   "cell_type": "code",
   "execution_count": 4,
   "id": "d7cc9717",
   "metadata": {},
   "outputs": [
    {
     "data": {
      "text/html": [
       "<div>\n",
       "<style scoped>\n",
       "    .dataframe tbody tr th:only-of-type {\n",
       "        vertical-align: middle;\n",
       "    }\n",
       "\n",
       "    .dataframe tbody tr th {\n",
       "        vertical-align: top;\n",
       "    }\n",
       "\n",
       "    .dataframe thead th {\n",
       "        text-align: right;\n",
       "    }\n",
       "</style>\n",
       "<table border=\"1\" class=\"dataframe\">\n",
       "  <thead>\n",
       "    <tr style=\"text-align: right;\">\n",
       "      <th></th>\n",
       "      <th>Company</th>\n",
       "      <th>Location</th>\n",
       "      <th>Industry</th>\n",
       "      <th>Date</th>\n",
       "      <th>Source</th>\n",
       "      <th>Funds_Raised</th>\n",
       "      <th>Stage</th>\n",
       "      <th>Date_Added</th>\n",
       "      <th>Country</th>\n",
       "      <th>Laid_Off_Count</th>\n",
       "      <th>Percentage</th>\n",
       "      <th>List_of_Employees_Laid_Off</th>\n",
       "    </tr>\n",
       "  </thead>\n",
       "  <tbody>\n",
       "    <tr>\n",
       "      <th>0</th>\n",
       "      <td>Autobooks</td>\n",
       "      <td>Detroit</td>\n",
       "      <td>Finance</td>\n",
       "      <td>12/10/2022</td>\n",
       "      <td>https://www.crainsdetroit.com/technology/finte...</td>\n",
       "      <td>97.0</td>\n",
       "      <td>Series C</td>\n",
       "      <td>12/11/2022 3:36</td>\n",
       "      <td>United States</td>\n",
       "      <td>NaN</td>\n",
       "      <td>NaN</td>\n",
       "      <td>Unknown</td>\n",
       "    </tr>\n",
       "    <tr>\n",
       "      <th>1</th>\n",
       "      <td>PharmEasy</td>\n",
       "      <td>Mumbai</td>\n",
       "      <td>Healthcare</td>\n",
       "      <td>12/10/2022</td>\n",
       "      <td>https://inc42.com/buzz/pharmeasy-lays-off-more...</td>\n",
       "      <td>1600.0</td>\n",
       "      <td>Unknown</td>\n",
       "      <td>12/11/2022 6:25</td>\n",
       "      <td>India</td>\n",
       "      <td>NaN</td>\n",
       "      <td>NaN</td>\n",
       "      <td>Unknown</td>\n",
       "    </tr>\n",
       "    <tr>\n",
       "      <th>2</th>\n",
       "      <td>Playtika</td>\n",
       "      <td>Tel Aviv</td>\n",
       "      <td>Consumer</td>\n",
       "      <td>12/9/2022</td>\n",
       "      <td>https://en.globes.co.il/en/article-playtika-to...</td>\n",
       "      <td>NaN</td>\n",
       "      <td>IPO</td>\n",
       "      <td>12/11/2022 6:01</td>\n",
       "      <td>Israel</td>\n",
       "      <td>600.0</td>\n",
       "      <td>0.15</td>\n",
       "      <td>Unknown</td>\n",
       "    </tr>\n",
       "    <tr>\n",
       "      <th>3</th>\n",
       "      <td>Alice</td>\n",
       "      <td>Sao Paulo</td>\n",
       "      <td>Healthcare</td>\n",
       "      <td>12/9/2022</td>\n",
       "      <td>https://startups.com.br/demissoes/alice-faz-no...</td>\n",
       "      <td>174.0</td>\n",
       "      <td>Series C</td>\n",
       "      <td>12/11/2022 3:31</td>\n",
       "      <td>Brazil</td>\n",
       "      <td>113.0</td>\n",
       "      <td>0.16</td>\n",
       "      <td>Unknown</td>\n",
       "    </tr>\n",
       "    <tr>\n",
       "      <th>4</th>\n",
       "      <td>Primer</td>\n",
       "      <td>London</td>\n",
       "      <td>Finance</td>\n",
       "      <td>12/9/2022</td>\n",
       "      <td>https://techcrunch.com/2022/12/09/primer-the-u...</td>\n",
       "      <td>73.0</td>\n",
       "      <td>Series B</td>\n",
       "      <td>12/9/2022 16:37</td>\n",
       "      <td>United Kingdom</td>\n",
       "      <td>85.0</td>\n",
       "      <td>0.33</td>\n",
       "      <td>Unknown</td>\n",
       "    </tr>\n",
       "  </tbody>\n",
       "</table>\n",
       "</div>"
      ],
      "text/plain": [
       "     Company   Location    Industry        Date  \\\n",
       "0  Autobooks    Detroit     Finance  12/10/2022   \n",
       "1  PharmEasy     Mumbai  Healthcare  12/10/2022   \n",
       "2   Playtika   Tel Aviv    Consumer   12/9/2022   \n",
       "3      Alice  Sao Paulo  Healthcare   12/9/2022   \n",
       "4     Primer     London     Finance   12/9/2022   \n",
       "\n",
       "                                              Source  Funds_Raised     Stage  \\\n",
       "0  https://www.crainsdetroit.com/technology/finte...          97.0  Series C   \n",
       "1  https://inc42.com/buzz/pharmeasy-lays-off-more...        1600.0   Unknown   \n",
       "2  https://en.globes.co.il/en/article-playtika-to...           NaN       IPO   \n",
       "3  https://startups.com.br/demissoes/alice-faz-no...         174.0  Series C   \n",
       "4  https://techcrunch.com/2022/12/09/primer-the-u...          73.0  Series B   \n",
       "\n",
       "        Date_Added         Country  Laid_Off_Count  Percentage  \\\n",
       "0  12/11/2022 3:36   United States             NaN         NaN   \n",
       "1  12/11/2022 6:25           India             NaN         NaN   \n",
       "2  12/11/2022 6:01          Israel           600.0        0.15   \n",
       "3  12/11/2022 3:31          Brazil           113.0        0.16   \n",
       "4  12/9/2022 16:37  United Kingdom            85.0        0.33   \n",
       "\n",
       "  List_of_Employees_Laid_Off  \n",
       "0                    Unknown  \n",
       "1                    Unknown  \n",
       "2                    Unknown  \n",
       "3                    Unknown  \n",
       "4                    Unknown  "
      ]
     },
     "execution_count": 4,
     "metadata": {},
     "output_type": "execute_result"
    }
   ],
   "source": [
    "#Viewing the first five rows of the dataset\n",
    "\n",
    "df.head()"
   ]
  },
  {
   "cell_type": "code",
   "execution_count": 5,
   "id": "2ee35d4d",
   "metadata": {},
   "outputs": [
    {
     "data": {
      "text/plain": [
       "(1792, 12)"
      ]
     },
     "execution_count": 5,
     "metadata": {},
     "output_type": "execute_result"
    }
   ],
   "source": [
    "df.shape\n",
    "\n",
    "#The dataset has 1792 rows and 12 columns"
   ]
  },
  {
   "cell_type": "code",
   "execution_count": 6,
   "id": "fd19bd92",
   "metadata": {},
   "outputs": [
    {
     "data": {
      "text/plain": [
       "Index(['Company', 'Location', 'Industry', 'Date', 'Source', 'Funds_Raised',\n",
       "       'Stage', 'Date_Added', 'Country', 'Laid_Off_Count', 'Percentage',\n",
       "       'List_of_Employees_Laid_Off'],\n",
       "      dtype='object')"
      ]
     },
     "execution_count": 6,
     "metadata": {},
     "output_type": "execute_result"
    }
   ],
   "source": [
    "#Viewing the Columns in the dataset\n",
    "\n",
    "df.columns"
   ]
  },
  {
   "cell_type": "code",
   "execution_count": 7,
   "id": "663e91f7",
   "metadata": {},
   "outputs": [
    {
     "name": "stdout",
     "output_type": "stream",
     "text": [
      "<class 'pandas.core.frame.DataFrame'>\n",
      "RangeIndex: 1792 entries, 0 to 1791\n",
      "Data columns (total 12 columns):\n",
      " #   Column                      Non-Null Count  Dtype  \n",
      "---  ------                      --------------  -----  \n",
      " 0   Company                     1792 non-null   object \n",
      " 1   Location                    1792 non-null   object \n",
      " 2   Industry                    1792 non-null   object \n",
      " 3   Date                        1791 non-null   object \n",
      " 4   Source                      1792 non-null   object \n",
      " 5   Funds_Raised                1659 non-null   float64\n",
      " 6   Stage                       1792 non-null   object \n",
      " 7   Date_Added                  1792 non-null   object \n",
      " 8   Country                     1792 non-null   object \n",
      " 9   Laid_Off_Count              1258 non-null   float64\n",
      " 10  Percentage                  1210 non-null   float64\n",
      " 11  List_of_Employees_Laid_Off  1792 non-null   object \n",
      "dtypes: float64(3), object(9)\n",
      "memory usage: 168.1+ KB\n"
     ]
    }
   ],
   "source": [
    "df.info()"
   ]
  },
  {
   "cell_type": "code",
   "execution_count": 8,
   "id": "6ac0b748",
   "metadata": {},
   "outputs": [
    {
     "data": {
      "text/plain": [
       "Company                        object\n",
       "Location                       object\n",
       "Industry                       object\n",
       "Date                           object\n",
       "Source                         object\n",
       "Funds_Raised                  float64\n",
       "Stage                          object\n",
       "Date_Added                     object\n",
       "Country                        object\n",
       "Laid_Off_Count                float64\n",
       "Percentage                    float64\n",
       "List_of_Employees_Laid_Off     object\n",
       "dtype: object"
      ]
     },
     "execution_count": 8,
     "metadata": {},
     "output_type": "execute_result"
    }
   ],
   "source": [
    "#Checking the datatypes\n",
    "\n",
    "df.dtypes"
   ]
  },
  {
   "cell_type": "code",
   "execution_count": 9,
   "id": "781762a7",
   "metadata": {},
   "outputs": [
    {
     "data": {
      "text/html": [
       "<div>\n",
       "<style scoped>\n",
       "    .dataframe tbody tr th:only-of-type {\n",
       "        vertical-align: middle;\n",
       "    }\n",
       "\n",
       "    .dataframe tbody tr th {\n",
       "        vertical-align: top;\n",
       "    }\n",
       "\n",
       "    .dataframe thead th {\n",
       "        text-align: right;\n",
       "    }\n",
       "</style>\n",
       "<table border=\"1\" class=\"dataframe\">\n",
       "  <thead>\n",
       "    <tr style=\"text-align: right;\">\n",
       "      <th></th>\n",
       "      <th>Funds_Raised</th>\n",
       "      <th>Laid_Off_Count</th>\n",
       "      <th>Percentage</th>\n",
       "    </tr>\n",
       "  </thead>\n",
       "  <tbody>\n",
       "    <tr>\n",
       "      <th>count</th>\n",
       "      <td>1659.000000</td>\n",
       "      <td>1258.000000</td>\n",
       "      <td>1210.000000</td>\n",
       "    </tr>\n",
       "    <tr>\n",
       "      <th>mean</th>\n",
       "      <td>856.681914</td>\n",
       "      <td>195.442766</td>\n",
       "      <td>0.274316</td>\n",
       "    </tr>\n",
       "    <tr>\n",
       "      <th>std</th>\n",
       "      <td>6287.605817</td>\n",
       "      <td>561.129473</td>\n",
       "      <td>0.265507</td>\n",
       "    </tr>\n",
       "    <tr>\n",
       "      <th>min</th>\n",
       "      <td>0.000000</td>\n",
       "      <td>3.000000</td>\n",
       "      <td>0.000000</td>\n",
       "    </tr>\n",
       "    <tr>\n",
       "      <th>25%</th>\n",
       "      <td>45.000000</td>\n",
       "      <td>31.000000</td>\n",
       "      <td>0.100000</td>\n",
       "    </tr>\n",
       "    <tr>\n",
       "      <th>50%</th>\n",
       "      <td>137.000000</td>\n",
       "      <td>70.000000</td>\n",
       "      <td>0.180000</td>\n",
       "    </tr>\n",
       "    <tr>\n",
       "      <th>75%</th>\n",
       "      <td>393.000000</td>\n",
       "      <td>150.000000</td>\n",
       "      <td>0.320000</td>\n",
       "    </tr>\n",
       "    <tr>\n",
       "      <th>max</th>\n",
       "      <td>121900.000000</td>\n",
       "      <td>11000.000000</td>\n",
       "      <td>1.000000</td>\n",
       "    </tr>\n",
       "  </tbody>\n",
       "</table>\n",
       "</div>"
      ],
      "text/plain": [
       "        Funds_Raised  Laid_Off_Count   Percentage\n",
       "count    1659.000000     1258.000000  1210.000000\n",
       "mean      856.681914      195.442766     0.274316\n",
       "std      6287.605817      561.129473     0.265507\n",
       "min         0.000000        3.000000     0.000000\n",
       "25%        45.000000       31.000000     0.100000\n",
       "50%       137.000000       70.000000     0.180000\n",
       "75%       393.000000      150.000000     0.320000\n",
       "max    121900.000000    11000.000000     1.000000"
      ]
     },
     "execution_count": 9,
     "metadata": {},
     "output_type": "execute_result"
    }
   ],
   "source": [
    "df.describe()"
   ]
  },
  {
   "cell_type": "code",
   "execution_count": 10,
   "id": "d00322b5",
   "metadata": {},
   "outputs": [
    {
     "data": {
      "text/plain": [
       "0"
      ]
     },
     "execution_count": 10,
     "metadata": {},
     "output_type": "execute_result"
    }
   ],
   "source": [
    "#Checking for duplicate rows in the dataset\n",
    "\n",
    "df.duplicated().sum()\n",
    "\n",
    "#No duplicate rows in the dataset"
   ]
  },
  {
   "cell_type": "code",
   "execution_count": 11,
   "id": "82368e99",
   "metadata": {},
   "outputs": [
    {
     "data": {
      "text/plain": [
       "Company                         0\n",
       "Location                        0\n",
       "Industry                        0\n",
       "Date                            1\n",
       "Source                          0\n",
       "Funds_Raised                  133\n",
       "Stage                           0\n",
       "Date_Added                      0\n",
       "Country                         0\n",
       "Laid_Off_Count                534\n",
       "Percentage                    582\n",
       "List_of_Employees_Laid_Off      0\n",
       "dtype: int64"
      ]
     },
     "execution_count": 11,
     "metadata": {},
     "output_type": "execute_result"
    }
   ],
   "source": [
    "#Checking for null values in the dataset\n",
    "\n",
    "df.isnull().sum()\n",
    "\n",
    "#There are null values in the dataset"
   ]
  },
  {
   "cell_type": "code",
   "execution_count": 12,
   "id": "aa4676dd",
   "metadata": {},
   "outputs": [
    {
     "data": {
      "text/plain": [
       "array(['Finance', 'Healthcare', 'Consumer', 'Other', 'Crypto', 'Product',\n",
       "       'Food', 'HR', 'Transportation', 'Marketing', 'Security',\n",
       "       'Infrastructure', 'Education', 'Real Estate', 'Legal', 'Retail',\n",
       "       'Media', 'Unknown', 'Travel', 'Fitness', 'Support', 'Data',\n",
       "       'Recruiting', 'Energy', 'Sales', 'Logistics', 'Aerospace',\n",
       "       'Construction'], dtype=object)"
      ]
     },
     "execution_count": 12,
     "metadata": {},
     "output_type": "execute_result"
    }
   ],
   "source": [
    "#The industries in the dataset\n",
    "\n",
    "df.Industry.unique()"
   ]
  },
  {
   "cell_type": "code",
   "execution_count": 13,
   "id": "cee992b5",
   "metadata": {},
   "outputs": [
    {
     "data": {
      "text/plain": [
       "array(['United States', 'India', 'Israel', 'Brazil', 'United Kingdom',\n",
       "       'Australia', 'Singapore', 'Indonesia', 'Argentina', 'Mexico',\n",
       "       'Nigeria', 'Netherlands', 'Germany', 'Canada', 'Switzerland',\n",
       "       'Egypt', 'Sweden', 'Ireland', 'Kenya', 'Luxembourg', 'China',\n",
       "       'Spain', 'Estonia', 'Greece', 'Poland', 'Seychelles', 'Norway',\n",
       "       'Belgium', 'Denmark', 'Hong Kong', 'New Zealand', 'Malaysia',\n",
       "       'Hungary', 'Vietnam', 'Austria', 'Thailand', 'Romania',\n",
       "       'Lithuania', 'Chile', 'Senegal', 'Pakistan',\n",
       "       'United Arab Emirates', 'Colombia', 'Finland', 'Peru', 'Bahrain',\n",
       "       'Turkey', 'Russia', 'Uruguay', 'Bulgaria', 'France', 'Portugal',\n",
       "       'South Africa', 'Czech Republic', 'Myanmar'], dtype=object)"
      ]
     },
     "execution_count": 13,
     "metadata": {},
     "output_type": "execute_result"
    }
   ],
   "source": [
    "#The Countries in the dataset\n",
    "\n",
    "df.Country.unique()"
   ]
  },
  {
   "cell_type": "code",
   "execution_count": 14,
   "id": "665c6c4e",
   "metadata": {},
   "outputs": [
    {
     "data": {
      "text/plain": [
       "1494"
      ]
     },
     "execution_count": 14,
     "metadata": {},
     "output_type": "execute_result"
    }
   ],
   "source": [
    "#The number of companies in the dataset\n",
    "\n",
    "df.Company.nunique()"
   ]
  },
  {
   "cell_type": "code",
   "execution_count": 15,
   "id": "89d96a0d",
   "metadata": {},
   "outputs": [
    {
     "data": {
      "text/plain": [
       "array(['Series C', 'Unknown', 'IPO', 'Series B', 'Series H', 'Series A',\n",
       "       'Series F', 'Series D', 'Private Equity', 'Series E', 'Acquired',\n",
       "       'Series J', 'Seed', 'Series G', 'Series I'], dtype=object)"
      ]
     },
     "execution_count": 15,
     "metadata": {},
     "output_type": "execute_result"
    }
   ],
   "source": [
    "df.Stage.unique()"
   ]
  },
  {
   "cell_type": "markdown",
   "id": "04a9a5ec",
   "metadata": {},
   "source": [
    "## Data Cleaning"
   ]
  },
  {
   "cell_type": "code",
   "execution_count": 16,
   "id": "2e29a7a5",
   "metadata": {},
   "outputs": [],
   "source": [
    "#Dropping Unwanted columns\n",
    "\n",
    "df.drop(['List_of_Employees_Laid_Off', 'Source', 'Date_Added'],axis=1, inplace=True)"
   ]
  },
  {
   "cell_type": "code",
   "execution_count": 17,
   "id": "7df4f872",
   "metadata": {},
   "outputs": [
    {
     "data": {
      "text/html": [
       "<div>\n",
       "<style scoped>\n",
       "    .dataframe tbody tr th:only-of-type {\n",
       "        vertical-align: middle;\n",
       "    }\n",
       "\n",
       "    .dataframe tbody tr th {\n",
       "        vertical-align: top;\n",
       "    }\n",
       "\n",
       "    .dataframe thead th {\n",
       "        text-align: right;\n",
       "    }\n",
       "</style>\n",
       "<table border=\"1\" class=\"dataframe\">\n",
       "  <thead>\n",
       "    <tr style=\"text-align: right;\">\n",
       "      <th></th>\n",
       "      <th>Company</th>\n",
       "      <th>Location</th>\n",
       "      <th>Industry</th>\n",
       "      <th>Date</th>\n",
       "      <th>Funds_Raised</th>\n",
       "      <th>Stage</th>\n",
       "      <th>Country</th>\n",
       "      <th>Laid_Off_Count</th>\n",
       "      <th>Percentage</th>\n",
       "    </tr>\n",
       "  </thead>\n",
       "  <tbody>\n",
       "    <tr>\n",
       "      <th>0</th>\n",
       "      <td>Autobooks</td>\n",
       "      <td>Detroit</td>\n",
       "      <td>Finance</td>\n",
       "      <td>12/10/2022</td>\n",
       "      <td>97.0</td>\n",
       "      <td>Series C</td>\n",
       "      <td>United States</td>\n",
       "      <td>NaN</td>\n",
       "      <td>NaN</td>\n",
       "    </tr>\n",
       "    <tr>\n",
       "      <th>1</th>\n",
       "      <td>PharmEasy</td>\n",
       "      <td>Mumbai</td>\n",
       "      <td>Healthcare</td>\n",
       "      <td>12/10/2022</td>\n",
       "      <td>1600.0</td>\n",
       "      <td>Unknown</td>\n",
       "      <td>India</td>\n",
       "      <td>NaN</td>\n",
       "      <td>NaN</td>\n",
       "    </tr>\n",
       "    <tr>\n",
       "      <th>2</th>\n",
       "      <td>Playtika</td>\n",
       "      <td>Tel Aviv</td>\n",
       "      <td>Consumer</td>\n",
       "      <td>12/9/2022</td>\n",
       "      <td>NaN</td>\n",
       "      <td>IPO</td>\n",
       "      <td>Israel</td>\n",
       "      <td>600.0</td>\n",
       "      <td>0.15</td>\n",
       "    </tr>\n",
       "    <tr>\n",
       "      <th>3</th>\n",
       "      <td>Alice</td>\n",
       "      <td>Sao Paulo</td>\n",
       "      <td>Healthcare</td>\n",
       "      <td>12/9/2022</td>\n",
       "      <td>174.0</td>\n",
       "      <td>Series C</td>\n",
       "      <td>Brazil</td>\n",
       "      <td>113.0</td>\n",
       "      <td>0.16</td>\n",
       "    </tr>\n",
       "    <tr>\n",
       "      <th>4</th>\n",
       "      <td>Primer</td>\n",
       "      <td>London</td>\n",
       "      <td>Finance</td>\n",
       "      <td>12/9/2022</td>\n",
       "      <td>73.0</td>\n",
       "      <td>Series B</td>\n",
       "      <td>United Kingdom</td>\n",
       "      <td>85.0</td>\n",
       "      <td>0.33</td>\n",
       "    </tr>\n",
       "  </tbody>\n",
       "</table>\n",
       "</div>"
      ],
      "text/plain": [
       "     Company   Location    Industry        Date  Funds_Raised     Stage  \\\n",
       "0  Autobooks    Detroit     Finance  12/10/2022          97.0  Series C   \n",
       "1  PharmEasy     Mumbai  Healthcare  12/10/2022        1600.0   Unknown   \n",
       "2   Playtika   Tel Aviv    Consumer   12/9/2022           NaN       IPO   \n",
       "3      Alice  Sao Paulo  Healthcare   12/9/2022         174.0  Series C   \n",
       "4     Primer     London     Finance   12/9/2022          73.0  Series B   \n",
       "\n",
       "          Country  Laid_Off_Count  Percentage  \n",
       "0   United States             NaN         NaN  \n",
       "1           India             NaN         NaN  \n",
       "2          Israel           600.0        0.15  \n",
       "3          Brazil           113.0        0.16  \n",
       "4  United Kingdom            85.0        0.33  "
      ]
     },
     "execution_count": 17,
     "metadata": {},
     "output_type": "execute_result"
    }
   ],
   "source": [
    "#Checking the dataset\n",
    "\n",
    "df.head()"
   ]
  },
  {
   "cell_type": "code",
   "execution_count": 18,
   "id": "6d93a4a8",
   "metadata": {},
   "outputs": [],
   "source": [
    "#Filling the null values with 0\n",
    "\n",
    "df.fillna(0, inplace=True)"
   ]
  },
  {
   "cell_type": "code",
   "execution_count": 19,
   "id": "a1d8d447",
   "metadata": {},
   "outputs": [
    {
     "data": {
      "text/plain": [
       "Company           0\n",
       "Location          0\n",
       "Industry          0\n",
       "Date              0\n",
       "Funds_Raised      0\n",
       "Stage             0\n",
       "Country           0\n",
       "Laid_Off_Count    0\n",
       "Percentage        0\n",
       "dtype: int64"
      ]
     },
     "execution_count": 19,
     "metadata": {},
     "output_type": "execute_result"
    }
   ],
   "source": [
    "df.isnull().sum()"
   ]
  },
  {
   "cell_type": "code",
   "execution_count": 20,
   "id": "4b2b74f3",
   "metadata": {},
   "outputs": [
    {
     "data": {
      "text/plain": [
       "Index(['company', 'location', 'industry', 'date', 'funds_raised', 'stage',\n",
       "       'country', 'laid_off_count', 'percentage'],\n",
       "      dtype='object')"
      ]
     },
     "execution_count": 20,
     "metadata": {},
     "output_type": "execute_result"
    }
   ],
   "source": [
    "#Changing the column names to lower case\n",
    "df.columns=df.columns.str.lower()\n",
    "df.columns\n"
   ]
  },
  {
   "cell_type": "code",
   "execution_count": 21,
   "id": "081ff909",
   "metadata": {},
   "outputs": [
    {
     "data": {
      "text/html": [
       "<div>\n",
       "<style scoped>\n",
       "    .dataframe tbody tr th:only-of-type {\n",
       "        vertical-align: middle;\n",
       "    }\n",
       "\n",
       "    .dataframe tbody tr th {\n",
       "        vertical-align: top;\n",
       "    }\n",
       "\n",
       "    .dataframe thead th {\n",
       "        text-align: right;\n",
       "    }\n",
       "</style>\n",
       "<table border=\"1\" class=\"dataframe\">\n",
       "  <thead>\n",
       "    <tr style=\"text-align: right;\">\n",
       "      <th></th>\n",
       "      <th>company</th>\n",
       "      <th>location</th>\n",
       "      <th>industry</th>\n",
       "      <th>date</th>\n",
       "      <th>funds_raised</th>\n",
       "      <th>stage</th>\n",
       "      <th>country</th>\n",
       "      <th>laid_off_count</th>\n",
       "      <th>percentage</th>\n",
       "    </tr>\n",
       "  </thead>\n",
       "  <tbody>\n",
       "    <tr>\n",
       "      <th>0</th>\n",
       "      <td>Autobooks</td>\n",
       "      <td>Detroit</td>\n",
       "      <td>Finance</td>\n",
       "      <td>12/10/2022</td>\n",
       "      <td>97.0</td>\n",
       "      <td>Series C</td>\n",
       "      <td>United States</td>\n",
       "      <td>0.0</td>\n",
       "      <td>0.00</td>\n",
       "    </tr>\n",
       "    <tr>\n",
       "      <th>1</th>\n",
       "      <td>PharmEasy</td>\n",
       "      <td>Mumbai</td>\n",
       "      <td>Healthcare</td>\n",
       "      <td>12/10/2022</td>\n",
       "      <td>1600.0</td>\n",
       "      <td>Unknown</td>\n",
       "      <td>India</td>\n",
       "      <td>0.0</td>\n",
       "      <td>0.00</td>\n",
       "    </tr>\n",
       "    <tr>\n",
       "      <th>2</th>\n",
       "      <td>Playtika</td>\n",
       "      <td>Tel Aviv</td>\n",
       "      <td>Consumer</td>\n",
       "      <td>12/9/2022</td>\n",
       "      <td>0.0</td>\n",
       "      <td>IPO</td>\n",
       "      <td>Israel</td>\n",
       "      <td>600.0</td>\n",
       "      <td>0.15</td>\n",
       "    </tr>\n",
       "    <tr>\n",
       "      <th>3</th>\n",
       "      <td>Alice</td>\n",
       "      <td>Sao Paulo</td>\n",
       "      <td>Healthcare</td>\n",
       "      <td>12/9/2022</td>\n",
       "      <td>174.0</td>\n",
       "      <td>Series C</td>\n",
       "      <td>Brazil</td>\n",
       "      <td>113.0</td>\n",
       "      <td>0.16</td>\n",
       "    </tr>\n",
       "    <tr>\n",
       "      <th>4</th>\n",
       "      <td>Primer</td>\n",
       "      <td>London</td>\n",
       "      <td>Finance</td>\n",
       "      <td>12/9/2022</td>\n",
       "      <td>73.0</td>\n",
       "      <td>Series B</td>\n",
       "      <td>United Kingdom</td>\n",
       "      <td>85.0</td>\n",
       "      <td>0.33</td>\n",
       "    </tr>\n",
       "  </tbody>\n",
       "</table>\n",
       "</div>"
      ],
      "text/plain": [
       "     company   location    industry        date  funds_raised     stage  \\\n",
       "0  Autobooks    Detroit     Finance  12/10/2022          97.0  Series C   \n",
       "1  PharmEasy     Mumbai  Healthcare  12/10/2022        1600.0   Unknown   \n",
       "2   Playtika   Tel Aviv    Consumer   12/9/2022           0.0       IPO   \n",
       "3      Alice  Sao Paulo  Healthcare   12/9/2022         174.0  Series C   \n",
       "4     Primer     London     Finance   12/9/2022          73.0  Series B   \n",
       "\n",
       "          country  laid_off_count  percentage  \n",
       "0   United States             0.0        0.00  \n",
       "1           India             0.0        0.00  \n",
       "2          Israel           600.0        0.15  \n",
       "3          Brazil           113.0        0.16  \n",
       "4  United Kingdom            85.0        0.33  "
      ]
     },
     "execution_count": 21,
     "metadata": {},
     "output_type": "execute_result"
    }
   ],
   "source": [
    "df.head()"
   ]
  },
  {
   "cell_type": "code",
   "execution_count": 22,
   "id": "c0f0394e",
   "metadata": {},
   "outputs": [],
   "source": [
    "#Changing the laid_off_count datatype to integer\n",
    "df['laid_off_count']=df['laid_off_count'].astype('int64')"
   ]
  },
  {
   "cell_type": "code",
   "execution_count": 23,
   "id": "2388908d",
   "metadata": {},
   "outputs": [
    {
     "name": "stdout",
     "output_type": "stream",
     "text": [
      "<class 'pandas.core.frame.DataFrame'>\n",
      "RangeIndex: 1792 entries, 0 to 1791\n",
      "Data columns (total 9 columns):\n",
      " #   Column          Non-Null Count  Dtype  \n",
      "---  ------          --------------  -----  \n",
      " 0   company         1792 non-null   object \n",
      " 1   location        1792 non-null   object \n",
      " 2   industry        1792 non-null   object \n",
      " 3   date            1792 non-null   object \n",
      " 4   funds_raised    1792 non-null   float64\n",
      " 5   stage           1792 non-null   object \n",
      " 6   country         1792 non-null   object \n",
      " 7   laid_off_count  1792 non-null   int64  \n",
      " 8   percentage      1792 non-null   float64\n",
      "dtypes: float64(2), int64(1), object(6)\n",
      "memory usage: 126.1+ KB\n"
     ]
    }
   ],
   "source": [
    "df.info()"
   ]
  },
  {
   "cell_type": "code",
   "execution_count": 24,
   "id": "bcd175b0",
   "metadata": {},
   "outputs": [],
   "source": [
    "#Changing the format of date column to datetime format and extracting the year and month from date\n",
    "df['date'] = pd.to_datetime(df['date'])\n",
    "df['month'] = df['date'].dt.month_name().str[:3]\n",
    "df['year'] = df['date'].dt.year\n",
    "\n"
   ]
  },
  {
   "cell_type": "code",
   "execution_count": 25,
   "id": "1db782b2",
   "metadata": {},
   "outputs": [
    {
     "data": {
      "text/plain": [
       "company                   object\n",
       "location                  object\n",
       "industry                  object\n",
       "date              datetime64[ns]\n",
       "funds_raised             float64\n",
       "stage                     object\n",
       "country                   object\n",
       "laid_off_count             int64\n",
       "percentage               float64\n",
       "month                     object\n",
       "year                       int64\n",
       "dtype: object"
      ]
     },
     "execution_count": 25,
     "metadata": {},
     "output_type": "execute_result"
    }
   ],
   "source": [
    "#checking the new date format and the new columns\n",
    "df.dtypes\n",
    "\n"
   ]
  },
  {
   "cell_type": "code",
   "execution_count": 26,
   "id": "0e828911",
   "metadata": {},
   "outputs": [
    {
     "data": {
      "text/html": [
       "<div>\n",
       "<style scoped>\n",
       "    .dataframe tbody tr th:only-of-type {\n",
       "        vertical-align: middle;\n",
       "    }\n",
       "\n",
       "    .dataframe tbody tr th {\n",
       "        vertical-align: top;\n",
       "    }\n",
       "\n",
       "    .dataframe thead th {\n",
       "        text-align: right;\n",
       "    }\n",
       "</style>\n",
       "<table border=\"1\" class=\"dataframe\">\n",
       "  <thead>\n",
       "    <tr style=\"text-align: right;\">\n",
       "      <th></th>\n",
       "      <th>company</th>\n",
       "      <th>location</th>\n",
       "      <th>industry</th>\n",
       "      <th>date</th>\n",
       "      <th>funds_raised</th>\n",
       "      <th>stage</th>\n",
       "      <th>country</th>\n",
       "      <th>laid_off_count</th>\n",
       "      <th>percentage</th>\n",
       "      <th>month</th>\n",
       "      <th>year</th>\n",
       "    </tr>\n",
       "  </thead>\n",
       "  <tbody>\n",
       "    <tr>\n",
       "      <th>0</th>\n",
       "      <td>Autobooks</td>\n",
       "      <td>Detroit</td>\n",
       "      <td>Finance</td>\n",
       "      <td>2022-12-10</td>\n",
       "      <td>97.0</td>\n",
       "      <td>Series C</td>\n",
       "      <td>United States</td>\n",
       "      <td>0</td>\n",
       "      <td>0.00</td>\n",
       "      <td>Dec</td>\n",
       "      <td>2022</td>\n",
       "    </tr>\n",
       "    <tr>\n",
       "      <th>1</th>\n",
       "      <td>PharmEasy</td>\n",
       "      <td>Mumbai</td>\n",
       "      <td>Healthcare</td>\n",
       "      <td>2022-12-10</td>\n",
       "      <td>1600.0</td>\n",
       "      <td>Unknown</td>\n",
       "      <td>India</td>\n",
       "      <td>0</td>\n",
       "      <td>0.00</td>\n",
       "      <td>Dec</td>\n",
       "      <td>2022</td>\n",
       "    </tr>\n",
       "    <tr>\n",
       "      <th>2</th>\n",
       "      <td>Playtika</td>\n",
       "      <td>Tel Aviv</td>\n",
       "      <td>Consumer</td>\n",
       "      <td>2022-12-09</td>\n",
       "      <td>0.0</td>\n",
       "      <td>IPO</td>\n",
       "      <td>Israel</td>\n",
       "      <td>600</td>\n",
       "      <td>0.15</td>\n",
       "      <td>Dec</td>\n",
       "      <td>2022</td>\n",
       "    </tr>\n",
       "    <tr>\n",
       "      <th>3</th>\n",
       "      <td>Alice</td>\n",
       "      <td>Sao Paulo</td>\n",
       "      <td>Healthcare</td>\n",
       "      <td>2022-12-09</td>\n",
       "      <td>174.0</td>\n",
       "      <td>Series C</td>\n",
       "      <td>Brazil</td>\n",
       "      <td>113</td>\n",
       "      <td>0.16</td>\n",
       "      <td>Dec</td>\n",
       "      <td>2022</td>\n",
       "    </tr>\n",
       "    <tr>\n",
       "      <th>4</th>\n",
       "      <td>Primer</td>\n",
       "      <td>London</td>\n",
       "      <td>Finance</td>\n",
       "      <td>2022-12-09</td>\n",
       "      <td>73.0</td>\n",
       "      <td>Series B</td>\n",
       "      <td>United Kingdom</td>\n",
       "      <td>85</td>\n",
       "      <td>0.33</td>\n",
       "      <td>Dec</td>\n",
       "      <td>2022</td>\n",
       "    </tr>\n",
       "  </tbody>\n",
       "</table>\n",
       "</div>"
      ],
      "text/plain": [
       "     company   location    industry       date  funds_raised     stage  \\\n",
       "0  Autobooks    Detroit     Finance 2022-12-10          97.0  Series C   \n",
       "1  PharmEasy     Mumbai  Healthcare 2022-12-10        1600.0   Unknown   \n",
       "2   Playtika   Tel Aviv    Consumer 2022-12-09           0.0       IPO   \n",
       "3      Alice  Sao Paulo  Healthcare 2022-12-09         174.0  Series C   \n",
       "4     Primer     London     Finance 2022-12-09          73.0  Series B   \n",
       "\n",
       "          country  laid_off_count  percentage month  year  \n",
       "0   United States               0        0.00   Dec  2022  \n",
       "1           India               0        0.00   Dec  2022  \n",
       "2          Israel             600        0.15   Dec  2022  \n",
       "3          Brazil             113        0.16   Dec  2022  \n",
       "4  United Kingdom              85        0.33   Dec  2022  "
      ]
     },
     "execution_count": 26,
     "metadata": {},
     "output_type": "execute_result"
    }
   ],
   "source": [
    "df.head()"
   ]
  },
  {
   "cell_type": "markdown",
   "id": "be03ef2b",
   "metadata": {},
   "source": [
    "## Exploratory Data Analysis"
   ]
  },
  {
   "cell_type": "code",
   "execution_count": 27,
   "id": "7f4e89c7",
   "metadata": {},
   "outputs": [
    {
     "data": {
      "text/plain": [
       "year\n",
       "1970         0\n",
       "2020     80968\n",
       "2021     15023\n",
       "2022    149876\n",
       "Name: laid_off_count, dtype: int64"
      ]
     },
     "execution_count": 27,
     "metadata": {},
     "output_type": "execute_result"
    }
   ],
   "source": [
    "#Number of Layoffs in each year\n",
    "\n",
    "df.groupby('year')['laid_off_count'].sum()\n",
    "\n"
   ]
  },
  {
   "cell_type": "code",
   "execution_count": 28,
   "id": "aa60622e",
   "metadata": {},
   "outputs": [
    {
     "data": {
      "text/plain": [
       "Text(0, 0.5, 'Number of Layoffs')"
      ]
     },
     "execution_count": 28,
     "metadata": {},
     "output_type": "execute_result"
    },
    {
     "data": {
      "image/png": "[encoded data removed]",
      "text/plain": [
       "<Figure size 432x288 with 1 Axes>"
      ]
     },
     "metadata": {
      "needs_background": "light"
     },
     "output_type": "display_data"
    }
   ],
   "source": [
    "#Visualizing it with a bar chart\n",
    "\n",
    "df.groupby('year')['laid_off_count'].sum().plot(kind='bar',fontsize=12)\n",
    "\n",
    "plt.title('Number of Layoffs over the years')\n",
    "plt.xlabel('Year')\n",
    "plt.ylabel('Number of Layoffs')\n",
    "\n",
    "#2022 is the year with the highest number of layoffs"
   ]
  },
  {
   "cell_type": "code",
   "execution_count": 29,
   "id": "c0fcaf36",
   "metadata": {},
   "outputs": [
    {
     "data": {
      "text/html": [
       "<div>\n",
       "<style scoped>\n",
       "    .dataframe tbody tr th:only-of-type {\n",
       "        vertical-align: middle;\n",
       "    }\n",
       "\n",
       "    .dataframe tbody tr th {\n",
       "        vertical-align: top;\n",
       "    }\n",
       "\n",
       "    .dataframe thead th {\n",
       "        text-align: right;\n",
       "    }\n",
       "</style>\n",
       "<table border=\"1\" class=\"dataframe\">\n",
       "  <thead>\n",
       "    <tr style=\"text-align: right;\">\n",
       "      <th></th>\n",
       "      <th>month</th>\n",
       "      <th>laid_off_count</th>\n",
       "    </tr>\n",
       "  </thead>\n",
       "  <tbody>\n",
       "    <tr>\n",
       "      <th>0</th>\n",
       "      <td>Apr</td>\n",
       "      <td>31035</td>\n",
       "    </tr>\n",
       "    <tr>\n",
       "      <th>1</th>\n",
       "      <td>Aug</td>\n",
       "      <td>16931</td>\n",
       "    </tr>\n",
       "    <tr>\n",
       "      <th>2</th>\n",
       "      <td>Dec</td>\n",
       "      <td>8372</td>\n",
       "    </tr>\n",
       "    <tr>\n",
       "      <th>3</th>\n",
       "      <td>Feb</td>\n",
       "      <td>4493</td>\n",
       "    </tr>\n",
       "    <tr>\n",
       "      <th>4</th>\n",
       "      <td>Jan</td>\n",
       "      <td>6523</td>\n",
       "    </tr>\n",
       "    <tr>\n",
       "      <th>5</th>\n",
       "      <td>Jul</td>\n",
       "      <td>23415</td>\n",
       "    </tr>\n",
       "    <tr>\n",
       "      <th>6</th>\n",
       "      <td>Jun</td>\n",
       "      <td>27645</td>\n",
       "    </tr>\n",
       "    <tr>\n",
       "      <th>7</th>\n",
       "      <td>Mar</td>\n",
       "      <td>15369</td>\n",
       "    </tr>\n",
       "    <tr>\n",
       "      <th>8</th>\n",
       "      <td>May</td>\n",
       "      <td>38339</td>\n",
       "    </tr>\n",
       "    <tr>\n",
       "      <th>9</th>\n",
       "      <td>Nov</td>\n",
       "      <td>53766</td>\n",
       "    </tr>\n",
       "    <tr>\n",
       "      <th>10</th>\n",
       "      <td>Oct</td>\n",
       "      <td>13328</td>\n",
       "    </tr>\n",
       "    <tr>\n",
       "      <th>11</th>\n",
       "      <td>Sep</td>\n",
       "      <td>6651</td>\n",
       "    </tr>\n",
       "  </tbody>\n",
       "</table>\n",
       "</div>"
      ],
      "text/plain": [
       "   month  laid_off_count\n",
       "0    Apr           31035\n",
       "1    Aug           16931\n",
       "2    Dec            8372\n",
       "3    Feb            4493\n",
       "4    Jan            6523\n",
       "5    Jul           23415\n",
       "6    Jun           27645\n",
       "7    Mar           15369\n",
       "8    May           38339\n",
       "9    Nov           53766\n",
       "10   Oct           13328\n",
       "11   Sep            6651"
      ]
     },
     "execution_count": 29,
     "metadata": {},
     "output_type": "execute_result"
    }
   ],
   "source": [
    "#Number of Layoffs by month\n",
    "\n",
    "months=df.groupby('month')['laid_off_count'].sum()\n",
    "months\n",
    "\n",
    "#Creating a new dataframe for the months and laid_off_counts\n",
    "months=pd.DataFrame(months)\n",
    "#reseting to include the index\n",
    "months=months.reset_index()\n",
    "months"
   ]
  },
  {
   "cell_type": "code",
   "execution_count": 30,
   "id": "cf150b43",
   "metadata": {},
   "outputs": [
    {
     "data": {
      "text/html": [
       "<div>\n",
       "<style scoped>\n",
       "    .dataframe tbody tr th:only-of-type {\n",
       "        vertical-align: middle;\n",
       "    }\n",
       "\n",
       "    .dataframe tbody tr th {\n",
       "        vertical-align: top;\n",
       "    }\n",
       "\n",
       "    .dataframe thead th {\n",
       "        text-align: right;\n",
       "    }\n",
       "</style>\n",
       "<table border=\"1\" class=\"dataframe\">\n",
       "  <thead>\n",
       "    <tr style=\"text-align: right;\">\n",
       "      <th></th>\n",
       "      <th>month</th>\n",
       "      <th>laid_off_count</th>\n",
       "    </tr>\n",
       "    <tr>\n",
       "      <th>month</th>\n",
       "      <th></th>\n",
       "      <th></th>\n",
       "    </tr>\n",
       "  </thead>\n",
       "  <tbody>\n",
       "    <tr>\n",
       "      <th>Jan</th>\n",
       "      <td>Jan</td>\n",
       "      <td>6523</td>\n",
       "    </tr>\n",
       "    <tr>\n",
       "      <th>Feb</th>\n",
       "      <td>Feb</td>\n",
       "      <td>4493</td>\n",
       "    </tr>\n",
       "    <tr>\n",
       "      <th>Mar</th>\n",
       "      <td>Mar</td>\n",
       "      <td>15369</td>\n",
       "    </tr>\n",
       "    <tr>\n",
       "      <th>Apr</th>\n",
       "      <td>Apr</td>\n",
       "      <td>31035</td>\n",
       "    </tr>\n",
       "    <tr>\n",
       "      <th>May</th>\n",
       "      <td>May</td>\n",
       "      <td>38339</td>\n",
       "    </tr>\n",
       "    <tr>\n",
       "      <th>Jun</th>\n",
       "      <td>Jun</td>\n",
       "      <td>27645</td>\n",
       "    </tr>\n",
       "    <tr>\n",
       "      <th>Jul</th>\n",
       "      <td>Jul</td>\n",
       "      <td>23415</td>\n",
       "    </tr>\n",
       "    <tr>\n",
       "      <th>Aug</th>\n",
       "      <td>Aug</td>\n",
       "      <td>16931</td>\n",
       "    </tr>\n",
       "    <tr>\n",
       "      <th>Sep</th>\n",
       "      <td>Sep</td>\n",
       "      <td>6651</td>\n",
       "    </tr>\n",
       "    <tr>\n",
       "      <th>Oct</th>\n",
       "      <td>Oct</td>\n",
       "      <td>13328</td>\n",
       "    </tr>\n",
       "    <tr>\n",
       "      <th>Nov</th>\n",
       "      <td>Nov</td>\n",
       "      <td>53766</td>\n",
       "    </tr>\n",
       "    <tr>\n",
       "      <th>Dec</th>\n",
       "      <td>Dec</td>\n",
       "      <td>8372</td>\n",
       "    </tr>\n",
       "  </tbody>\n",
       "</table>\n",
       "</div>"
      ],
      "text/plain": [
       "      month  laid_off_count\n",
       "month                      \n",
       "Jan     Jan            6523\n",
       "Feb     Feb            4493\n",
       "Mar     Mar           15369\n",
       "Apr     Apr           31035\n",
       "May     May           38339\n",
       "Jun     Jun           27645\n",
       "Jul     Jul           23415\n",
       "Aug     Aug           16931\n",
       "Sep     Sep            6651\n",
       "Oct     Oct           13328\n",
       "Nov     Nov           53766\n",
       "Dec     Dec            8372"
      ]
     },
     "execution_count": 30,
     "metadata": {},
     "output_type": "execute_result"
    }
   ],
   "source": [
    "#Sorting the months Categorically\n",
    "sort_order=['Jan', 'Feb', 'Mar', 'Apr','May', 'Jun', 'Jul', 'Aug', 'Sep', 'Oct', 'Nov', 'Dec']\n",
    "months.index= pd.CategoricalIndex(months['month'], categories=sort_order, ordered=True)\n",
    "months=months.sort_index()\n",
    "months\n"
   ]
  },
  {
   "cell_type": "code",
   "execution_count": 31,
   "id": "5132b412",
   "metadata": {},
   "outputs": [
    {
     "data": {
      "text/html": [
       "<div>\n",
       "<style scoped>\n",
       "    .dataframe tbody tr th:only-of-type {\n",
       "        vertical-align: middle;\n",
       "    }\n",
       "\n",
       "    .dataframe tbody tr th {\n",
       "        vertical-align: top;\n",
       "    }\n",
       "\n",
       "    .dataframe thead th {\n",
       "        text-align: right;\n",
       "    }\n",
       "</style>\n",
       "<table border=\"1\" class=\"dataframe\">\n",
       "  <thead>\n",
       "    <tr style=\"text-align: right;\">\n",
       "      <th></th>\n",
       "      <th>month</th>\n",
       "      <th>laid_off_count</th>\n",
       "    </tr>\n",
       "  </thead>\n",
       "  <tbody>\n",
       "    <tr>\n",
       "      <th>0</th>\n",
       "      <td>Jan</td>\n",
       "      <td>6523</td>\n",
       "    </tr>\n",
       "    <tr>\n",
       "      <th>1</th>\n",
       "      <td>Feb</td>\n",
       "      <td>4493</td>\n",
       "    </tr>\n",
       "    <tr>\n",
       "      <th>2</th>\n",
       "      <td>Mar</td>\n",
       "      <td>15369</td>\n",
       "    </tr>\n",
       "    <tr>\n",
       "      <th>3</th>\n",
       "      <td>Apr</td>\n",
       "      <td>31035</td>\n",
       "    </tr>\n",
       "    <tr>\n",
       "      <th>4</th>\n",
       "      <td>May</td>\n",
       "      <td>38339</td>\n",
       "    </tr>\n",
       "    <tr>\n",
       "      <th>5</th>\n",
       "      <td>Jun</td>\n",
       "      <td>27645</td>\n",
       "    </tr>\n",
       "    <tr>\n",
       "      <th>6</th>\n",
       "      <td>Jul</td>\n",
       "      <td>23415</td>\n",
       "    </tr>\n",
       "    <tr>\n",
       "      <th>7</th>\n",
       "      <td>Aug</td>\n",
       "      <td>16931</td>\n",
       "    </tr>\n",
       "    <tr>\n",
       "      <th>8</th>\n",
       "      <td>Sep</td>\n",
       "      <td>6651</td>\n",
       "    </tr>\n",
       "    <tr>\n",
       "      <th>9</th>\n",
       "      <td>Oct</td>\n",
       "      <td>13328</td>\n",
       "    </tr>\n",
       "    <tr>\n",
       "      <th>10</th>\n",
       "      <td>Nov</td>\n",
       "      <td>53766</td>\n",
       "    </tr>\n",
       "    <tr>\n",
       "      <th>11</th>\n",
       "      <td>Dec</td>\n",
       "      <td>8372</td>\n",
       "    </tr>\n",
       "  </tbody>\n",
       "</table>\n",
       "</div>"
      ],
      "text/plain": [
       "   month  laid_off_count\n",
       "0    Jan            6523\n",
       "1    Feb            4493\n",
       "2    Mar           15369\n",
       "3    Apr           31035\n",
       "4    May           38339\n",
       "5    Jun           27645\n",
       "6    Jul           23415\n",
       "7    Aug           16931\n",
       "8    Sep            6651\n",
       "9    Oct           13328\n",
       "10   Nov           53766\n",
       "11   Dec            8372"
      ]
     },
     "execution_count": 31,
     "metadata": {},
     "output_type": "execute_result"
    }
   ],
   "source": [
    "#Dropping the index column\n",
    "\n",
    "months=months.reset_index(drop=True)\n",
    "months"
   ]
  },
  {
   "cell_type": "code",
   "execution_count": 32,
   "id": "07352143",
   "metadata": {},
   "outputs": [
    {
     "data": {
      "text/plain": [
       "Text(0, 0.5, 'Number of Layoffs')"
      ]
     },
     "execution_count": 32,
     "metadata": {},
     "output_type": "execute_result"
    },
    {
     "data": {
      "image/png": "[encoded data removed]",
      "text/plain": [
       "<Figure size 720x576 with 1 Axes>"
      ]
     },
     "metadata": {
      "needs_background": "light"
     },
     "output_type": "display_data"
    }
   ],
   "source": [
    "#visualizing it with a bar Chart\n",
    "\n",
    "months.plot(x='month', kind='bar', fontsize=12, figsize=(10,8))\n",
    "plt.title('layoffs by month',fontsize=14)\n",
    "plt.xlabel('Month')\n",
    "plt.ylabel('Number of Layoffs')"
   ]
  },
  {
   "cell_type": "markdown",
   "id": "8e8265e2",
   "metadata": {},
   "source": [
    "## Top 10 Companies to lay off in each year"
   ]
  },
  {
   "cell_type": "code",
   "execution_count": 33,
   "id": "300a7c77",
   "metadata": {},
   "outputs": [
    {
     "data": {
      "text/plain": [
       "array([2022, 2021, 2020, 1970], dtype=int64)"
      ]
     },
     "execution_count": 33,
     "metadata": {},
     "output_type": "execute_result"
    }
   ],
   "source": [
    "years=df['year'].unique()\n",
    "\n",
    "years"
   ]
  },
  {
   "cell_type": "code",
   "execution_count": 34,
   "id": "b9cd4ce1",
   "metadata": {},
   "outputs": [
    {
     "data": {
      "text/plain": [
       "company\n",
       "Uber           7525\n",
       "Booking.com    4375\n",
       "Groupon        2800\n",
       "Swiggy         2250\n",
       "Airbnb         1900\n",
       "Agoda          1500\n",
       "PaisaBazaar    1500\n",
       "Ola            1400\n",
       "Stitch Fix     1400\n",
       "Stone          1300\n",
       "Name: laid_off_count, dtype: int64"
      ]
     },
     "execution_count": 34,
     "metadata": {},
     "output_type": "execute_result"
    }
   ],
   "source": [
    "top_2020=df.query('year==2020')\n",
    "top_2020.groupby('company')['laid_off_count'].sum().nlargest(10)"
   ]
  },
  {
   "cell_type": "code",
   "execution_count": 35,
   "id": "3e75879e",
   "metadata": {},
   "outputs": [
    {
     "data": {
      "text/plain": [
       "Text(0, 0.5, 'Number of Layoffs')"
      ]
     },
     "execution_count": 35,
     "metadata": {},
     "output_type": "execute_result"
    },
    {
     "data": {
      "image/png": "[encoded data removed]",
      "text/plain": [
       "<Figure size 1008x360 with 1 Axes>"
      ]
     },
     "metadata": {
      "needs_background": "light"
     },
     "output_type": "display_data"
    }
   ],
   "source": [
    "#Top 10 Companies by number of layoffs in 2020\n",
    "\n",
    "top_2020=df.query('year==2020')\n",
    "top_2020.groupby('company')['laid_off_count'].sum().nlargest(10).plot(kind='bar', figsize=(14,5), fontsize=12)\n",
    "plt.title('Top 10 Companies by Layoffs in 2020')\n",
    "plt.xlabel('Company')\n",
    "plt.ylabel('Number of Layoffs')"
   ]
  },
  {
   "cell_type": "code",
   "execution_count": 36,
   "id": "9a8d3457",
   "metadata": {},
   "outputs": [
    {
     "data": {
      "text/plain": [
       "company\n",
       "Bytedance        3600\n",
       "Katerra          2434\n",
       "Zillow           2000\n",
       "Instacart        1877\n",
       "WhiteHat Jr      1800\n",
       "Better.com        900\n",
       "Dropbox           315\n",
       "Delivery Hero     300\n",
       "ThredUp           243\n",
       "Bounce            200\n",
       "Name: laid_off_count, dtype: int64"
      ]
     },
     "execution_count": 36,
     "metadata": {},
     "output_type": "execute_result"
    }
   ],
   "source": [
    "top_2021=df.query('year==2021')\n",
    "top_2021.groupby('company')['laid_off_count'].sum().nlargest(10)"
   ]
  },
  {
   "cell_type": "code",
   "execution_count": 37,
   "id": "a1293304",
   "metadata": {},
   "outputs": [
    {
     "data": {
      "text/plain": [
       "Text(0, 0.5, 'Number of Layoffs')"
      ]
     },
     "execution_count": 37,
     "metadata": {},
     "output_type": "execute_result"
    },
    {
     "data": {
      "image/png": "[encoded data removed]",
      "text/plain": [
       "<Figure size 1008x360 with 1 Axes>"
      ]
     },
     "metadata": {
      "needs_background": "light"
     },
     "output_type": "display_data"
    }
   ],
   "source": [
    "#Top 10 Companies by number of layoffs in 2021\n",
    "\n",
    "top_2021=df.query('year==2021')\n",
    "top_2021.groupby('company')['laid_off_count'].sum().nlargest(10).plot(kind='bar', figsize=(14,5), fontsize=12)\n",
    "plt.title('Top 10 Companies by Layoffs in 2021')\n",
    "plt.xlabel('Company')\n",
    "plt.ylabel('Number of Layoffs')"
   ]
  },
  {
   "cell_type": "code",
   "execution_count": 38,
   "id": "d4e2040f",
   "metadata": {},
   "outputs": [
    {
     "data": {
      "text/plain": [
       "company\n",
       "Meta          11000\n",
       "Amazon        10000\n",
       "Cisco          4100\n",
       "Peloton        4084\n",
       "Carvana        4000\n",
       "Twitter        3700\n",
       "Better.com     3000\n",
       "Byju's         2500\n",
       "Gopuff         2300\n",
       "Crypto.com     2260\n",
       "Name: laid_off_count, dtype: int64"
      ]
     },
     "execution_count": 38,
     "metadata": {},
     "output_type": "execute_result"
    }
   ],
   "source": [
    "top_2022=df.query('year==2022')\n",
    "top_2022.groupby('company')['laid_off_count'].sum().nlargest(10)\n"
   ]
  },
  {
   "cell_type": "code",
   "execution_count": 39,
   "id": "5a9b3e9d",
   "metadata": {},
   "outputs": [
    {
     "data": {
      "text/plain": [
       "Text(0, 0.5, 'Number of Layoffs')"
      ]
     },
     "execution_count": 39,
     "metadata": {},
     "output_type": "execute_result"
    },
    {
     "data": {
      "image/png": "[encoded data removed]",
      "text/plain": [
       "<Figure size 1008x360 with 1 Axes>"
      ]
     },
     "metadata": {
      "needs_background": "light"
     },
     "output_type": "display_data"
    }
   ],
   "source": [
    "#Top 10 Companies by number of layoffs in 2022\n",
    "\n",
    "top_2022=df.query('year==2022')\n",
    "top_2022.groupby('company')['laid_off_count'].sum().nlargest(10).plot(kind='bar', figsize=(14,5), fontsize=12)\n",
    "plt.title('Top 10 Companies by layoffs in 2022')\n",
    "plt.xlabel('Company')\n",
    "plt.ylabel('Number of Layoffs')"
   ]
  },
  {
   "cell_type": "markdown",
   "id": "99ddd8c0",
   "metadata": {},
   "source": [
    "## Top 20 Countries by Number of layoffs"
   ]
  },
  {
   "cell_type": "code",
   "execution_count": 40,
   "id": "07e61ec2",
   "metadata": {},
   "outputs": [
    {
     "data": {
      "text/plain": [
       "array(['United States', 'India', 'Israel', 'Brazil', 'United Kingdom',\n",
       "       'Australia', 'Singapore', 'Indonesia', 'Argentina', 'Mexico',\n",
       "       'Nigeria', 'Netherlands', 'Germany', 'Canada', 'Switzerland',\n",
       "       'Egypt', 'Sweden', 'Ireland', 'Kenya', 'Luxembourg', 'China',\n",
       "       'Spain', 'Estonia', 'Greece', 'Poland', 'Seychelles', 'Norway',\n",
       "       'Belgium', 'Denmark', 'Hong Kong', 'New Zealand', 'Malaysia',\n",
       "       'Hungary', 'Vietnam', 'Austria', 'Thailand', 'Romania',\n",
       "       'Lithuania', 'Chile', 'Senegal', 'Pakistan',\n",
       "       'United Arab Emirates', 'Colombia', 'Finland', 'Peru', 'Bahrain',\n",
       "       'Turkey', 'Russia', 'Uruguay', 'Bulgaria', 'France', 'Portugal',\n",
       "       'South Africa', 'Czech Republic', 'Myanmar'], dtype=object)"
      ]
     },
     "execution_count": 40,
     "metadata": {},
     "output_type": "execute_result"
    }
   ],
   "source": [
    "df['country'].unique()"
   ]
  },
  {
   "cell_type": "code",
   "execution_count": 41,
   "id": "96f5bacc",
   "metadata": {},
   "outputs": [
    {
     "data": {
      "text/plain": [
       "country\n",
       "United States           161353\n",
       "India                    31236\n",
       "Brazil                    8110\n",
       "Singapore                 5801\n",
       "Canada                    5199\n",
       "Netherlands               5070\n",
       "United Kingdom            4870\n",
       "China                     4430\n",
       "Germany                   4113\n",
       "Indonesia                 2961\n",
       "Israel                    2938\n",
       "Sweden                    2014\n",
       "Australia                 1215\n",
       "United Arab Emirates       995\n",
       "Hong Kong                  730\n",
       "Nigeria                    491\n",
       "Austria                    470\n",
       "Russia                     400\n",
       "Kenya                      349\n",
       "Argentina                  323\n",
       "Name: laid_off_count, dtype: int64"
      ]
     },
     "execution_count": 41,
     "metadata": {},
     "output_type": "execute_result"
    }
   ],
   "source": [
    "top_country=df.groupby('country')['laid_off_count'].sum().nlargest(20)\n",
    "top_country"
   ]
  },
  {
   "cell_type": "code",
   "execution_count": 42,
   "id": "ae73b836",
   "metadata": {},
   "outputs": [
    {
     "data": {
      "text/plain": [
       "Text(0, 0.5, 'Number of Layoffs')"
      ]
     },
     "execution_count": 42,
     "metadata": {},
     "output_type": "execute_result"
    },
    {
     "data": {
      "image/png": "[encoded data removed]",
      "text/plain": [
       "<Figure size 1008x360 with 1 Axes>"
      ]
     },
     "metadata": {
      "needs_background": "light"
     },
     "output_type": "display_data"
    }
   ],
   "source": [
    "top_country.plot(kind='bar', figsize=(14,5), fontsize=12)\n",
    "plt.title('Top 20 Countries by Layoffs')\n",
    "plt.xlabel('Country')\n",
    "plt.ylabel('Number of Layoffs')"
   ]
  },
  {
   "cell_type": "markdown",
   "id": "c6c20aef",
   "metadata": {},
   "source": [
    "## Top 20 Companies by Number of Layoffs"
   ]
  },
  {
   "cell_type": "code",
   "execution_count": 43,
   "id": "9e8843d5",
   "metadata": {},
   "outputs": [
    {
     "data": {
      "text/plain": [
       "1494"
      ]
     },
     "execution_count": 43,
     "metadata": {},
     "output_type": "execute_result"
    }
   ],
   "source": [
    "df['company'].nunique()"
   ]
  },
  {
   "cell_type": "code",
   "execution_count": 44,
   "id": "a5b6ca96",
   "metadata": {},
   "outputs": [
    {
     "data": {
      "text/plain": [
       "company\n",
       "Meta           11000\n",
       "Amazon         10000\n",
       "Uber            7585\n",
       "Booking.com     4601\n",
       "Cisco           4100\n",
       "Peloton         4084\n",
       "Carvana         4000\n",
       "Better.com      3900\n",
       "Bytedance       3750\n",
       "Twitter         3700\n",
       "Groupon         3300\n",
       "Katerra         3074\n",
       "Ola             2600\n",
       "Byju's          2500\n",
       "Swiggy          2500\n",
       "Zillow          2300\n",
       "Gopuff          2300\n",
       "Crypto.com      2260\n",
       "WhiteHat Jr     2100\n",
       "Salesforce      2090\n",
       "Name: laid_off_count, dtype: int64"
      ]
     },
     "execution_count": 44,
     "metadata": {},
     "output_type": "execute_result"
    }
   ],
   "source": [
    "company_layoff=df.groupby('company')['laid_off_count'].sum().sort_values(ascending=False)[:20]\n",
    "company_layoff"
   ]
  },
  {
   "cell_type": "code",
   "execution_count": 45,
   "id": "dd7bdd47",
   "metadata": {},
   "outputs": [
    {
     "data": {
      "text/plain": [
       "Text(0, 0.5, 'Number of Layoffs')"
      ]
     },
     "execution_count": 45,
     "metadata": {},
     "output_type": "execute_result"
    },
    {
     "data": {
      "image/png": "[encoded data removed]",
      "text/plain": [
       "<Figure size 1080x720 with 1 Axes>"
      ]
     },
     "metadata": {
      "needs_background": "light"
     },
     "output_type": "display_data"
    }
   ],
   "source": [
    "company_layoff.plot(kind='bar', figsize=(15,10), fontsize=12)\n",
    "plt.title('Top 20 Companies by Layoffs')\n",
    "plt.xlabel('Company')\n",
    "plt.ylabel('Number of Layoffs')"
   ]
  },
  {
   "cell_type": "markdown",
   "id": "1006209c",
   "metadata": {},
   "source": [
    "## Industries by Number of Layoffs"
   ]
  },
  {
   "cell_type": "code",
   "execution_count": 46,
   "id": "789031c3",
   "metadata": {},
   "outputs": [
    {
     "data": {
      "text/plain": [
       "array(['Finance', 'Healthcare', 'Consumer', 'Other', 'Crypto', 'Product',\n",
       "       'Food', 'HR', 'Transportation', 'Marketing', 'Security',\n",
       "       'Infrastructure', 'Education', 'Real Estate', 'Legal', 'Retail',\n",
       "       'Media', 'Unknown', 'Travel', 'Fitness', 'Support', 'Data',\n",
       "       'Recruiting', 'Energy', 'Sales', 'Logistics', 'Aerospace',\n",
       "       'Construction'], dtype=object)"
      ]
     },
     "execution_count": 46,
     "metadata": {},
     "output_type": "execute_result"
    }
   ],
   "source": [
    "df['industry'].unique()\n"
   ]
  },
  {
   "cell_type": "code",
   "execution_count": 47,
   "id": "b6f8202a",
   "metadata": {},
   "outputs": [
    {
     "data": {
      "text/plain": [
       "28"
      ]
     },
     "execution_count": 47,
     "metadata": {},
     "output_type": "execute_result"
    }
   ],
   "source": [
    "df['industry'].nunique()"
   ]
  },
  {
   "cell_type": "code",
   "execution_count": 48,
   "id": "161605e6",
   "metadata": {},
   "outputs": [
    {
     "data": {
      "text/plain": [
       "industry\n",
       "Transportation    29425\n",
       "Consumer          29194\n",
       "Retail            27601\n",
       "Finance           21067\n",
       "Food              19656\n",
       "Real Estate       16364\n",
       "Travel            15476\n",
       "Healthcare        12115\n",
       "Education         10743\n",
       "Fitness            8688\n",
       "Crypto             8060\n",
       "Marketing          6443\n",
       "Other              6407\n",
       "Infrastructure     5358\n",
       "Security           3993\n",
       "Sales              3833\n",
       "Construction       3820\n",
       "Media              3112\n",
       "Recruiting         2775\n",
       "Logistics          2731\n",
       "Data               2583\n",
       "HR                 1540\n",
       "Support            1440\n",
       "Product            1062\n",
       "Energy              802\n",
       "Aerospace           661\n",
       "Legal               620\n",
       "Unknown             298\n",
       "Name: laid_off_count, dtype: int64"
      ]
     },
     "execution_count": 48,
     "metadata": {},
     "output_type": "execute_result"
    }
   ],
   "source": [
    "df.groupby('industry')['laid_off_count'].sum().sort_values(ascending=False)"
   ]
  },
  {
   "cell_type": "code",
   "execution_count": 49,
   "id": "af9ddb01",
   "metadata": {},
   "outputs": [
    {
     "data": {
      "text/plain": [
       "Text(0, 0.5, 'Industry')"
      ]
     },
     "execution_count": 49,
     "metadata": {},
     "output_type": "execute_result"
    },
    {
     "data": {
      "image/png": "[encoded data removed]",
      "text/plain": [
       "<Figure size 1008x720 with 1 Axes>"
      ]
     },
     "metadata": {
      "needs_background": "light"
     },
     "output_type": "display_data"
    }
   ],
   "source": [
    "df.groupby('industry')['laid_off_count'].sum().sort_values().plot(kind='barh', figsize=(14,10), fontsize=12)\n",
    "plt.title('Industries by Number of Layoffs')\n",
    "plt.ylabel('Industry')"
   ]
  },
  {
   "cell_type": "code",
   "execution_count": 50,
   "id": "e01b2211",
   "metadata": {},
   "outputs": [
    {
     "data": {
      "text/html": [
       "<div>\n",
       "<style scoped>\n",
       "    .dataframe tbody tr th:only-of-type {\n",
       "        vertical-align: middle;\n",
       "    }\n",
       "\n",
       "    .dataframe tbody tr th {\n",
       "        vertical-align: top;\n",
       "    }\n",
       "\n",
       "    .dataframe thead th {\n",
       "        text-align: right;\n",
       "    }\n",
       "</style>\n",
       "<table border=\"1\" class=\"dataframe\">\n",
       "  <thead>\n",
       "    <tr style=\"text-align: right;\">\n",
       "      <th></th>\n",
       "      <th>company</th>\n",
       "      <th>location</th>\n",
       "      <th>industry</th>\n",
       "      <th>date</th>\n",
       "      <th>funds_raised</th>\n",
       "      <th>stage</th>\n",
       "      <th>country</th>\n",
       "      <th>laid_off_count</th>\n",
       "      <th>percentage</th>\n",
       "      <th>month</th>\n",
       "      <th>year</th>\n",
       "    </tr>\n",
       "  </thead>\n",
       "  <tbody>\n",
       "    <tr>\n",
       "      <th>51</th>\n",
       "      <td>DataRails</td>\n",
       "      <td>Tel Aviv</td>\n",
       "      <td>Unknown</td>\n",
       "      <td>2022-12-05</td>\n",
       "      <td>103.0</td>\n",
       "      <td>Series B</td>\n",
       "      <td>Israel</td>\n",
       "      <td>30</td>\n",
       "      <td>0.18</td>\n",
       "      <td>Dec</td>\n",
       "      <td>2022</td>\n",
       "    </tr>\n",
       "    <tr>\n",
       "      <th>81</th>\n",
       "      <td>Motional</td>\n",
       "      <td>Boston</td>\n",
       "      <td>Unknown</td>\n",
       "      <td>2022-11-30</td>\n",
       "      <td>0.0</td>\n",
       "      <td>Unknown</td>\n",
       "      <td>United States</td>\n",
       "      <td>0</td>\n",
       "      <td>0.00</td>\n",
       "      <td>Nov</td>\n",
       "      <td>2022</td>\n",
       "    </tr>\n",
       "    <tr>\n",
       "      <th>92</th>\n",
       "      <td>Proton.ai</td>\n",
       "      <td>Boston</td>\n",
       "      <td>Unknown</td>\n",
       "      <td>2022-11-29</td>\n",
       "      <td>20.0</td>\n",
       "      <td>Series A</td>\n",
       "      <td>United States</td>\n",
       "      <td>0</td>\n",
       "      <td>0.00</td>\n",
       "      <td>Nov</td>\n",
       "      <td>2022</td>\n",
       "    </tr>\n",
       "    <tr>\n",
       "      <th>196</th>\n",
       "      <td>InfluxData</td>\n",
       "      <td>SF Bay Area</td>\n",
       "      <td>Unknown</td>\n",
       "      <td>2022-11-10</td>\n",
       "      <td>119.0</td>\n",
       "      <td>Series D</td>\n",
       "      <td>United States</td>\n",
       "      <td>65</td>\n",
       "      <td>0.27</td>\n",
       "      <td>Nov</td>\n",
       "      <td>2022</td>\n",
       "    </tr>\n",
       "    <tr>\n",
       "      <th>210</th>\n",
       "      <td>AvantStay</td>\n",
       "      <td>Los Angeles</td>\n",
       "      <td>Unknown</td>\n",
       "      <td>2022-11-09</td>\n",
       "      <td>686.0</td>\n",
       "      <td>Private Equity</td>\n",
       "      <td>United States</td>\n",
       "      <td>144</td>\n",
       "      <td>0.22</td>\n",
       "      <td>Nov</td>\n",
       "      <td>2022</td>\n",
       "    </tr>\n",
       "    <tr>\n",
       "      <th>241</th>\n",
       "      <td>Exodus</td>\n",
       "      <td>Nebraska City</td>\n",
       "      <td>Unknown</td>\n",
       "      <td>2022-11-04</td>\n",
       "      <td>60.0</td>\n",
       "      <td>Unknown</td>\n",
       "      <td>United States</td>\n",
       "      <td>59</td>\n",
       "      <td>0.22</td>\n",
       "      <td>Nov</td>\n",
       "      <td>2022</td>\n",
       "    </tr>\n",
       "  </tbody>\n",
       "</table>\n",
       "</div>"
      ],
      "text/plain": [
       "        company       location industry       date  funds_raised  \\\n",
       "51    DataRails       Tel Aviv  Unknown 2022-12-05         103.0   \n",
       "81     Motional         Boston  Unknown 2022-11-30           0.0   \n",
       "92    Proton.ai         Boston  Unknown 2022-11-29          20.0   \n",
       "196  InfluxData    SF Bay Area  Unknown 2022-11-10         119.0   \n",
       "210   AvantStay    Los Angeles  Unknown 2022-11-09         686.0   \n",
       "241      Exodus  Nebraska City  Unknown 2022-11-04          60.0   \n",
       "\n",
       "              stage        country  laid_off_count  percentage month  year  \n",
       "51         Series B         Israel              30        0.18   Dec  2022  \n",
       "81          Unknown  United States               0        0.00   Nov  2022  \n",
       "92         Series A  United States               0        0.00   Nov  2022  \n",
       "196        Series D  United States              65        0.27   Nov  2022  \n",
       "210  Private Equity  United States             144        0.22   Nov  2022  \n",
       "241         Unknown  United States              59        0.22   Nov  2022  "
      ]
     },
     "execution_count": 50,
     "metadata": {},
     "output_type": "execute_result"
    }
   ],
   "source": [
    "#Checking the unknown in the Industry column\n",
    "\n",
    "df.query(\"industry=='Unknown'\")"
   ]
  },
  {
   "cell_type": "markdown",
   "id": "04a17bf0",
   "metadata": {},
   "source": [
    "## Layoffs by Stage"
   ]
  },
  {
   "cell_type": "code",
   "execution_count": 51,
   "id": "a6136a0e",
   "metadata": {},
   "outputs": [
    {
     "data": {
      "text/plain": [
       "array(['Series C', 'Unknown', 'IPO', 'Series B', 'Series H', 'Series A',\n",
       "       'Series F', 'Series D', 'Private Equity', 'Series E', 'Acquired',\n",
       "       'Series J', 'Seed', 'Series G', 'Series I'], dtype=object)"
      ]
     },
     "execution_count": 51,
     "metadata": {},
     "output_type": "execute_result"
    }
   ],
   "source": [
    "df['stage'].unique()"
   ]
  },
  {
   "cell_type": "code",
   "execution_count": 52,
   "id": "188db13e",
   "metadata": {},
   "outputs": [
    {
     "data": {
      "text/plain": [
       "15"
      ]
     },
     "execution_count": 52,
     "metadata": {},
     "output_type": "execute_result"
    }
   ],
   "source": [
    "df['stage'].nunique()"
   ]
  },
  {
   "cell_type": "code",
   "execution_count": 53,
   "id": "4cf5b774",
   "metadata": {},
   "outputs": [
    {
     "data": {
      "text/plain": [
       "stage\n",
       "Seed               1482\n",
       "Series I           2645\n",
       "Series J           3370\n",
       "Series G           3406\n",
       "Series A           4910\n",
       "Private Equity     6276\n",
       "Series H           6389\n",
       "Series F           8836\n",
       "Series E           9945\n",
       "Series B          13074\n",
       "Series C          16681\n",
       "Series D          17049\n",
       "Acquired          18699\n",
       "Unknown           35360\n",
       "IPO               97745\n",
       "Name: laid_off_count, dtype: int64"
      ]
     },
     "execution_count": 53,
     "metadata": {},
     "output_type": "execute_result"
    }
   ],
   "source": [
    "stage=df.groupby('stage')['laid_off_count'].sum().sort_values()\n",
    "stage"
   ]
  },
  {
   "cell_type": "code",
   "execution_count": 54,
   "id": "3ed53a94",
   "metadata": {},
   "outputs": [
    {
     "data": {
      "text/plain": [
       "Text(0, 0.5, 'Stage')"
      ]
     },
     "execution_count": 54,
     "metadata": {},
     "output_type": "execute_result"
    },
    {
     "data": {
      "image/png": "[encoded data removed]",
      "text/plain": [
       "<Figure size 864x720 with 1 Axes>"
      ]
     },
     "metadata": {
      "needs_background": "light"
     },
     "output_type": "display_data"
    }
   ],
   "source": [
    "stage.plot(kind='barh', figsize=(12,10), fontsize=12)\n",
    "plt.title('Layoffs by Stage')\n",
    "plt.ylabel('Stage')"
   ]
  },
  {
   "cell_type": "code",
   "execution_count": 55,
   "id": "47775199",
   "metadata": {},
   "outputs": [
    {
     "data": {
      "text/html": [
       "<div>\n",
       "<style scoped>\n",
       "    .dataframe tbody tr th:only-of-type {\n",
       "        vertical-align: middle;\n",
       "    }\n",
       "\n",
       "    .dataframe tbody tr th {\n",
       "        vertical-align: top;\n",
       "    }\n",
       "\n",
       "    .dataframe thead th {\n",
       "        text-align: right;\n",
       "    }\n",
       "</style>\n",
       "<table border=\"1\" class=\"dataframe\">\n",
       "  <thead>\n",
       "    <tr style=\"text-align: right;\">\n",
       "      <th></th>\n",
       "      <th>company</th>\n",
       "      <th>location</th>\n",
       "      <th>industry</th>\n",
       "      <th>date</th>\n",
       "      <th>funds_raised</th>\n",
       "      <th>stage</th>\n",
       "      <th>country</th>\n",
       "      <th>laid_off_count</th>\n",
       "      <th>percentage</th>\n",
       "      <th>month</th>\n",
       "      <th>year</th>\n",
       "    </tr>\n",
       "  </thead>\n",
       "  <tbody>\n",
       "    <tr>\n",
       "      <th>1</th>\n",
       "      <td>PharmEasy</td>\n",
       "      <td>Mumbai</td>\n",
       "      <td>Healthcare</td>\n",
       "      <td>2022-12-10</td>\n",
       "      <td>1600.0</td>\n",
       "      <td>Unknown</td>\n",
       "      <td>India</td>\n",
       "      <td>0</td>\n",
       "      <td>0.00</td>\n",
       "      <td>Dec</td>\n",
       "      <td>2022</td>\n",
       "    </tr>\n",
       "    <tr>\n",
       "      <th>7</th>\n",
       "      <td>Digital Surge</td>\n",
       "      <td>Brisbane</td>\n",
       "      <td>Crypto</td>\n",
       "      <td>2022-12-09</td>\n",
       "      <td>0.0</td>\n",
       "      <td>Unknown</td>\n",
       "      <td>Australia</td>\n",
       "      <td>0</td>\n",
       "      <td>1.00</td>\n",
       "      <td>Dec</td>\n",
       "      <td>2022</td>\n",
       "    </tr>\n",
       "    <tr>\n",
       "      <th>11</th>\n",
       "      <td>Swiggy</td>\n",
       "      <td>Bengaluru</td>\n",
       "      <td>Food</td>\n",
       "      <td>2022-12-08</td>\n",
       "      <td>3600.0</td>\n",
       "      <td>Unknown</td>\n",
       "      <td>India</td>\n",
       "      <td>250</td>\n",
       "      <td>0.03</td>\n",
       "      <td>Dec</td>\n",
       "      <td>2022</td>\n",
       "    </tr>\n",
       "    <tr>\n",
       "      <th>26</th>\n",
       "      <td>Loft</td>\n",
       "      <td>Sao Paulo</td>\n",
       "      <td>Real Estate</td>\n",
       "      <td>2022-12-07</td>\n",
       "      <td>788.0</td>\n",
       "      <td>Unknown</td>\n",
       "      <td>Brazil</td>\n",
       "      <td>312</td>\n",
       "      <td>0.12</td>\n",
       "      <td>Dec</td>\n",
       "      <td>2022</td>\n",
       "    </tr>\n",
       "    <tr>\n",
       "      <th>32</th>\n",
       "      <td>Grover</td>\n",
       "      <td>Berlin</td>\n",
       "      <td>Retail</td>\n",
       "      <td>2022-12-07</td>\n",
       "      <td>2300.0</td>\n",
       "      <td>Unknown</td>\n",
       "      <td>United States</td>\n",
       "      <td>40</td>\n",
       "      <td>0.10</td>\n",
       "      <td>Dec</td>\n",
       "      <td>2022</td>\n",
       "    </tr>\n",
       "    <tr>\n",
       "      <th>...</th>\n",
       "      <td>...</td>\n",
       "      <td>...</td>\n",
       "      <td>...</td>\n",
       "      <td>...</td>\n",
       "      <td>...</td>\n",
       "      <td>...</td>\n",
       "      <td>...</td>\n",
       "      <td>...</td>\n",
       "      <td>...</td>\n",
       "      <td>...</td>\n",
       "      <td>...</td>\n",
       "    </tr>\n",
       "    <tr>\n",
       "      <th>1764</th>\n",
       "      <td>GrayMeta</td>\n",
       "      <td>Los Angeles</td>\n",
       "      <td>Data</td>\n",
       "      <td>2020-03-23</td>\n",
       "      <td>7.0</td>\n",
       "      <td>Unknown</td>\n",
       "      <td>United States</td>\n",
       "      <td>20</td>\n",
       "      <td>0.40</td>\n",
       "      <td>Mar</td>\n",
       "      <td>2020</td>\n",
       "    </tr>\n",
       "    <tr>\n",
       "      <th>1777</th>\n",
       "      <td>Ejento</td>\n",
       "      <td>SF Bay Area</td>\n",
       "      <td>Recruiting</td>\n",
       "      <td>2020-03-19</td>\n",
       "      <td>0.0</td>\n",
       "      <td>Unknown</td>\n",
       "      <td>United States</td>\n",
       "      <td>84</td>\n",
       "      <td>1.00</td>\n",
       "      <td>Mar</td>\n",
       "      <td>2020</td>\n",
       "    </tr>\n",
       "    <tr>\n",
       "      <th>1781</th>\n",
       "      <td>Popin</td>\n",
       "      <td>New York City</td>\n",
       "      <td>Fitness</td>\n",
       "      <td>2020-03-19</td>\n",
       "      <td>13.0</td>\n",
       "      <td>Unknown</td>\n",
       "      <td>United States</td>\n",
       "      <td>0</td>\n",
       "      <td>1.00</td>\n",
       "      <td>Mar</td>\n",
       "      <td>2020</td>\n",
       "    </tr>\n",
       "    <tr>\n",
       "      <th>1787</th>\n",
       "      <td>HopSkipDrive</td>\n",
       "      <td>Los Angeles</td>\n",
       "      <td>Transportation</td>\n",
       "      <td>2020-03-13</td>\n",
       "      <td>45.0</td>\n",
       "      <td>Unknown</td>\n",
       "      <td>United States</td>\n",
       "      <td>8</td>\n",
       "      <td>0.10</td>\n",
       "      <td>Mar</td>\n",
       "      <td>2020</td>\n",
       "    </tr>\n",
       "    <tr>\n",
       "      <th>1791</th>\n",
       "      <td>Homebound</td>\n",
       "      <td>SF Bay Area</td>\n",
       "      <td>Real Estate</td>\n",
       "      <td>1970-01-01</td>\n",
       "      <td>128.0</td>\n",
       "      <td>Unknown</td>\n",
       "      <td>United States</td>\n",
       "      <td>0</td>\n",
       "      <td>0.00</td>\n",
       "      <td>Jan</td>\n",
       "      <td>1970</td>\n",
       "    </tr>\n",
       "  </tbody>\n",
       "</table>\n",
       "<p>312 rows × 11 columns</p>\n",
       "</div>"
      ],
      "text/plain": [
       "            company       location        industry       date  funds_raised  \\\n",
       "1         PharmEasy         Mumbai      Healthcare 2022-12-10        1600.0   \n",
       "7     Digital Surge       Brisbane          Crypto 2022-12-09           0.0   \n",
       "11           Swiggy      Bengaluru            Food 2022-12-08        3600.0   \n",
       "26             Loft      Sao Paulo     Real Estate 2022-12-07         788.0   \n",
       "32           Grover         Berlin          Retail 2022-12-07        2300.0   \n",
       "...             ...            ...             ...        ...           ...   \n",
       "1764       GrayMeta    Los Angeles            Data 2020-03-23           7.0   \n",
       "1777         Ejento    SF Bay Area      Recruiting 2020-03-19           0.0   \n",
       "1781          Popin  New York City         Fitness 2020-03-19          13.0   \n",
       "1787   HopSkipDrive    Los Angeles  Transportation 2020-03-13          45.0   \n",
       "1791      Homebound    SF Bay Area     Real Estate 1970-01-01         128.0   \n",
       "\n",
       "        stage        country  laid_off_count  percentage month  year  \n",
       "1     Unknown          India               0        0.00   Dec  2022  \n",
       "7     Unknown      Australia               0        1.00   Dec  2022  \n",
       "11    Unknown          India             250        0.03   Dec  2022  \n",
       "26    Unknown         Brazil             312        0.12   Dec  2022  \n",
       "32    Unknown  United States              40        0.10   Dec  2022  \n",
       "...       ...            ...             ...         ...   ...   ...  \n",
       "1764  Unknown  United States              20        0.40   Mar  2020  \n",
       "1777  Unknown  United States              84        1.00   Mar  2020  \n",
       "1781  Unknown  United States               0        1.00   Mar  2020  \n",
       "1787  Unknown  United States               8        0.10   Mar  2020  \n",
       "1791  Unknown  United States               0        0.00   Jan  1970  \n",
       "\n",
       "[312 rows x 11 columns]"
      ]
     },
     "execution_count": 55,
     "metadata": {},
     "output_type": "execute_result"
    }
   ],
   "source": [
    "#Checking the Unknown in the Stage columnn\n",
    "df.query(\"stage=='Unknown'\")"
   ]
  },
  {
   "cell_type": "markdown",
   "id": "20cbfbcf",
   "metadata": {},
   "source": [
    "## Average Layoffs"
   ]
  },
  {
   "cell_type": "code",
   "execution_count": 56,
   "id": "547bbb96",
   "metadata": {},
   "outputs": [
    {
     "data": {
      "text/plain": [
       "year\n",
       "1970      0.0\n",
       "2020    128.0\n",
       "2021    349.0\n",
       "2022    134.0\n",
       "Name: laid_off_count, dtype: float64"
      ]
     },
     "execution_count": 56,
     "metadata": {},
     "output_type": "execute_result"
    }
   ],
   "source": [
    "#Average layoffs by Year\n",
    "\n",
    "year_layoff=df.groupby('year')['laid_off_count'].mean().round(0)\n",
    "year_layoff"
   ]
  },
  {
   "cell_type": "code",
   "execution_count": 57,
   "id": "3eec7511",
   "metadata": {},
   "outputs": [
    {
     "data": {
      "text/plain": [
       "Text(0, 0.5, 'Average layoffs')"
      ]
     },
     "execution_count": 57,
     "metadata": {},
     "output_type": "execute_result"
    },
    {
     "data": {
      "image/png": "[encoded data removed]",
      "text/plain": [
       "<Figure size 720x360 with 1 Axes>"
      ]
     },
     "metadata": {
      "needs_background": "light"
     },
     "output_type": "display_data"
    }
   ],
   "source": [
    "year_layoff.plot(kind='bar', figsize=(10,5), fontsize=12)\n",
    "plt.title('Average Layoffs by Year')\n",
    "plt.xlabel('Year', fontsize=12)\n",
    "plt.ylabel('Average layoffs', fontsize=12)"
   ]
  },
  {
   "cell_type": "code",
   "execution_count": 58,
   "id": "ace56735",
   "metadata": {},
   "outputs": [
    {
     "data": {
      "text/plain": [
       "month\n",
       "Jan    466.0\n",
       "Nov    246.0\n",
       "Feb    236.0\n",
       "May    206.0\n",
       "Jul    125.0\n",
       "Oct    122.0\n",
       "Jun    113.0\n",
       "Dec    109.0\n",
       "Mar    108.0\n",
       "Apr    103.0\n",
       "Aug     95.0\n",
       "Sep     59.0\n",
       "Name: laid_off_count, dtype: float64"
      ]
     },
     "execution_count": 58,
     "metadata": {},
     "output_type": "execute_result"
    }
   ],
   "source": [
    "#Average Layoffs by Month\n",
    "\n",
    "month_average=df.groupby('month')['laid_off_count'].mean().round(0).sort_values(ascending=False)\n",
    "month_average"
   ]
  },
  {
   "cell_type": "code",
   "execution_count": 59,
   "id": "4a164f42",
   "metadata": {},
   "outputs": [
    {
     "data": {
      "text/plain": [
       "Text(0.5, 0, 'month')"
      ]
     },
     "execution_count": 59,
     "metadata": {},
     "output_type": "execute_result"
    },
    {
     "data": {
      "image/png": "[encoded data removed]",
      "text/plain": [
       "<Figure size 720x360 with 1 Axes>"
      ]
     },
     "metadata": {
      "needs_background": "light"
     },
     "output_type": "display_data"
    }
   ],
   "source": [
    "month_average.plot(kind='bar', figsize=(10,5), fontsize=12)\n",
    "plt.title('Average Layoffs by Month')\n",
    "plt.ylabel('Average Layoffs')\n",
    "plt.xlabel('month')"
   ]
  },
  {
   "cell_type": "code",
   "execution_count": 60,
   "id": "78225ffb",
   "metadata": {},
   "outputs": [
    {
     "data": {
      "text/plain": [
       "industry\n",
       "HR                 34.0\n",
       "Product            39.0\n",
       "Media              41.0\n",
       "Data               43.0\n",
       "Unknown            50.0\n",
       "Support            55.0\n",
       "Marketing          58.0\n",
       "Energy             73.0\n",
       "Security           75.0\n",
       "Legal              78.0\n",
       "Other              80.0\n",
       "Logistics          80.0\n",
       "Healthcare         93.0\n",
       "Finance            93.0\n",
       "Recruiting         99.0\n",
       "Aerospace         110.0\n",
       "Crypto            119.0\n",
       "Education         141.0\n",
       "Infrastructure    153.0\n",
       "Sales             153.0\n",
       "Real Estate       160.0\n",
       "Food              176.0\n",
       "Retail            188.0\n",
       "Travel            250.0\n",
       "Transportation    263.0\n",
       "Construction      294.0\n",
       "Fitness           322.0\n",
       "Consumer          343.0\n",
       "Name: laid_off_count, dtype: float64"
      ]
     },
     "execution_count": 60,
     "metadata": {},
     "output_type": "execute_result"
    }
   ],
   "source": [
    "#Average layoffs by Industry\n",
    "\n",
    "industry_average=df.groupby('industry')['laid_off_count'].mean().round(0).sort_values()\n",
    "industry_average"
   ]
  },
  {
   "cell_type": "code",
   "execution_count": 61,
   "id": "e960e3fa",
   "metadata": {},
   "outputs": [
    {
     "data": {
      "text/plain": [
       "Text(0, 0.5, 'Industry')"
      ]
     },
     "execution_count": 61,
     "metadata": {},
     "output_type": "execute_result"
    },
    {
     "data": {
      "image/png": "[encoded data removed]",
      "text/plain": [
       "<Figure size 720x720 with 1 Axes>"
      ]
     },
     "metadata": {
      "needs_background": "light"
     },
     "output_type": "display_data"
    }
   ],
   "source": [
    "industry_average.plot(kind='barh', figsize=(10,10), fontsize=12)\n",
    "plt.title('Average Layoffs by Industry')\n",
    "plt.ylabel('Industry')"
   ]
  },
  {
   "cell_type": "code",
   "execution_count": 62,
   "id": "71a722eb",
   "metadata": {},
   "outputs": [
    {
     "data": {
      "text/plain": [
       "stage\n",
       "Seed               26.0\n",
       "Series A           34.0\n",
       "Series B           52.0\n",
       "Series C           68.0\n",
       "Series D           91.0\n",
       "Series E          106.0\n",
       "Unknown           113.0\n",
       "Acquired          155.0\n",
       "Series F          192.0\n",
       "Private Equity    196.0\n",
       "Series G          284.0\n",
       "Series H          304.0\n",
       "IPO               391.0\n",
       "Series J          481.0\n",
       "Series I          529.0\n",
       "Name: laid_off_count, dtype: float64"
      ]
     },
     "execution_count": 62,
     "metadata": {},
     "output_type": "execute_result"
    }
   ],
   "source": [
    "#Average layoffs by Stage\n",
    "\n",
    "stage_average=df.groupby('stage')['laid_off_count'].mean().round(0).sort_values()\n",
    "stage_average"
   ]
  },
  {
   "cell_type": "code",
   "execution_count": 63,
   "id": "31c02071",
   "metadata": {},
   "outputs": [
    {
     "data": {
      "text/plain": [
       "Text(0, 0.5, 'Stage')"
      ]
     },
     "execution_count": 63,
     "metadata": {},
     "output_type": "execute_result"
    },
    {
     "data": {
      "image/png": "[encoded data removed]",
      "text/plain": [
       "<Figure size 720x720 with 1 Axes>"
      ]
     },
     "metadata": {
      "needs_background": "light"
     },
     "output_type": "display_data"
    }
   ],
   "source": [
    "stage_average.plot(kind='barh', figsize=(10,10), fontsize=12)\n",
    "plt.title('Average Layoffs by Stage')\n",
    "plt.ylabel('Stage')"
   ]
  }
 ],
 "metadata": {
  "kernelspec": {
   "display_name": "Python 3 (ipykernel)",
   "language": "python",
   "name": "python3"
  },
  "language_info": {
   "codemirror_mode": {
    "name": "ipython",
    "version": 3
   },
   "file_extension": ".py",
   "mimetype": "text/x-python",
   "name": "python",
   "nbconvert_exporter": "python",
   "pygments_lexer": "ipython3",
   "version": "3.9.12"
  }
 },
 "nbformat": 4,
 "nbformat_minor": 5
}
